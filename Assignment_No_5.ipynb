{
  "nbformat": 4,
  "nbformat_minor": 0,
  "metadata": {
    "colab": {
      "provenance": []
    },
    "kernelspec": {
      "name": "python3",
      "display_name": "Python 3"
    },
    "language_info": {
      "name": "python"
    }
  },
  "cells": [
    {
      "cell_type": "code",
      "execution_count": 7,
      "metadata": {
        "colab": {
          "base_uri": "https://localhost:8080/"
        },
        "id": "cZm09UHg842w",
        "outputId": "dba5ddc7-2ccc-404e-9283-b298feb99965"
      },
      "outputs": [
        {
          "output_type": "stream",
          "name": "stdout",
          "text": [
            "Enter The Numbers 2\n",
            "Enter the power of number3\n",
            "8\n"
          ]
        }
      ],
      "source": [
        "class power:\n",
        "  def __init__(self,x,n):\n",
        "    self.x=x\n",
        "    self.n=n\n",
        "  def power1 (self):\n",
        "    return self.x**self.n\n",
        "x=int(input(\"Enter The Numbers \"))   \n",
        "n=int(input(\"Enter the power of number\")) \n",
        "c=power(x,n)\n",
        "print(c.power1())\n",
        "\n"
      ]
    }
  ]
}